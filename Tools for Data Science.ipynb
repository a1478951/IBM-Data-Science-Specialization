{
 "cells": [
  {
   "cell_type": "markdown",
   "id": "3d27f95d",
   "metadata": {},
   "source": [
    "# My Jupyter Notebook on IBM Watson Studio / Github"
   ]
  },
  {
   "cell_type": "markdown",
   "id": "f86bd3cf",
   "metadata": {},
   "source": [
    "**My name is Jiang Kai.**\n",
    "\n",
    "Marketing in Aviation"
   ]
  },
  {
   "cell_type": "markdown",
   "id": "284be476",
   "metadata": {},
   "source": [
    "*I am interested in data science because i can use this skill to solve a lot of problem in my daily work*"
   ]
  },
  {
   "cell_type": "markdown",
   "id": "39946534",
   "metadata": {},
   "source": [
    "### The Following Code will generate a random integer between 1 and 100 ###"
   ]
  },
  {
   "cell_type": "code",
   "execution_count": 1,
   "id": "351aadbf",
   "metadata": {},
   "outputs": [
    {
     "name": "stdout",
     "output_type": "stream",
     "text": [
      "81\n"
     ]
    }
   ],
   "source": [
    "import random\n",
    "\n",
    "Random_int = random.randint(1,100)\n",
    "\n",
    "print(Random_int)"
   ]
  },
  {
   "cell_type": "markdown",
   "id": "de20d41f",
   "metadata": {},
   "source": [
    "* this\n",
    "* is\n",
    "* bullet\n",
    "* point\n",
    "\n",
    "| Tables     | Are         | Cool  |\n",
    "| ---------- |:-----------:| -----:|\n",
    "|   A        |       1     |   =   |\n",
    "|   B        |       2     |   +   |\n",
    "|   C        |       3     |   -   |\n",
    "\n",
    "<https://github.com/adam-p/markdown-here/wiki/Markdown-Cheatsheet#h6>"
   ]
  }
 ],
 "metadata": {
  "kernelspec": {
   "display_name": "Python 3 (ipykernel)",
   "language": "python",
   "name": "python3"
  },
  "language_info": {
   "codemirror_mode": {
    "name": "ipython",
    "version": 3
   },
   "file_extension": ".py",
   "mimetype": "text/x-python",
   "name": "python",
   "nbconvert_exporter": "python",
   "pygments_lexer": "ipython3",
   "version": "3.9.7"
  }
 },
 "nbformat": 4,
 "nbformat_minor": 5
}
